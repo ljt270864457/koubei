{
 "cells": [
  {
   "cell_type": "code",
   "execution_count": 1,
   "metadata": {},
   "outputs": [],
   "source": [
    "import seaborn as sns\n",
    "import matplotlib.pyplot as plt\n",
    "import pandas as pd\n",
    "import numpy as np\n",
    "\n",
    "%matplotlib inline"
   ]
  },
  {
   "cell_type": "markdown",
   "metadata": {},
   "source": [
    "## 加载数据\n",
    "\n",
    "### 加载商铺数据\n",
    "```\n",
    "- shop_id 商铺id\n",
    "- city_name 城市名称\n",
    "- location_id 区域ID\n",
    "- per_pay 人均消费(越大越高)\n",
    "- score 商铺评分\n",
    "- comment_cnt 评论数量\n",
    "- shop_level 门店等级（数值越大门店等级越高）\n",
    "- cate_1_name 分类1\n",
    "- cate_2_name 分类2\n",
    "- cate_3_name 分类3\n",
    "```"
   ]
  },
  {
   "cell_type": "code",
   "execution_count": 2,
   "metadata": {},
   "outputs": [
    {
     "data": {
      "text/html": [
       "<div>\n",
       "<style scoped>\n",
       "    .dataframe tbody tr th:only-of-type {\n",
       "        vertical-align: middle;\n",
       "    }\n",
       "\n",
       "    .dataframe tbody tr th {\n",
       "        vertical-align: top;\n",
       "    }\n",
       "\n",
       "    .dataframe thead th {\n",
       "        text-align: right;\n",
       "    }\n",
       "</style>\n",
       "<table border=\"1\" class=\"dataframe\">\n",
       "  <thead>\n",
       "    <tr style=\"text-align: right;\">\n",
       "      <th></th>\n",
       "      <th>shop_id</th>\n",
       "      <th>city_name</th>\n",
       "      <th>location_id</th>\n",
       "      <th>per_pay</th>\n",
       "      <th>score</th>\n",
       "      <th>comment_cnt</th>\n",
       "      <th>shop_level</th>\n",
       "      <th>cate_1_name</th>\n",
       "      <th>cate_2_name</th>\n",
       "      <th>cate_3_name</th>\n",
       "    </tr>\n",
       "  </thead>\n",
       "  <tbody>\n",
       "    <tr>\n",
       "      <th>0</th>\n",
       "      <td>1</td>\n",
       "      <td>湖州</td>\n",
       "      <td>885</td>\n",
       "      <td>8</td>\n",
       "      <td>4.0</td>\n",
       "      <td>12.0</td>\n",
       "      <td>2</td>\n",
       "      <td>美食</td>\n",
       "      <td>休闲茶饮</td>\n",
       "      <td>饮品/甜点</td>\n",
       "    </tr>\n",
       "    <tr>\n",
       "      <th>1</th>\n",
       "      <td>2</td>\n",
       "      <td>哈尔滨</td>\n",
       "      <td>64</td>\n",
       "      <td>19</td>\n",
       "      <td>NaN</td>\n",
       "      <td>NaN</td>\n",
       "      <td>1</td>\n",
       "      <td>超市便利店</td>\n",
       "      <td>超市</td>\n",
       "      <td>NaN</td>\n",
       "    </tr>\n",
       "    <tr>\n",
       "      <th>2</th>\n",
       "      <td>3</td>\n",
       "      <td>南昌</td>\n",
       "      <td>774</td>\n",
       "      <td>5</td>\n",
       "      <td>3.0</td>\n",
       "      <td>2.0</td>\n",
       "      <td>0</td>\n",
       "      <td>美食</td>\n",
       "      <td>休闲茶饮</td>\n",
       "      <td>奶茶</td>\n",
       "    </tr>\n",
       "    <tr>\n",
       "      <th>3</th>\n",
       "      <td>4</td>\n",
       "      <td>天津</td>\n",
       "      <td>380</td>\n",
       "      <td>18</td>\n",
       "      <td>NaN</td>\n",
       "      <td>NaN</td>\n",
       "      <td>1</td>\n",
       "      <td>超市便利店</td>\n",
       "      <td>超市</td>\n",
       "      <td>NaN</td>\n",
       "    </tr>\n",
       "    <tr>\n",
       "      <th>4</th>\n",
       "      <td>5</td>\n",
       "      <td>杭州</td>\n",
       "      <td>263</td>\n",
       "      <td>2</td>\n",
       "      <td>2.0</td>\n",
       "      <td>2.0</td>\n",
       "      <td>0</td>\n",
       "      <td>美食</td>\n",
       "      <td>休闲食品</td>\n",
       "      <td>生鲜水果</td>\n",
       "    </tr>\n",
       "  </tbody>\n",
       "</table>\n",
       "</div>"
      ],
      "text/plain": [
       "   shop_id city_name  location_id  per_pay  score  comment_cnt  shop_level  \\\n",
       "0        1        湖州          885        8    4.0         12.0           2   \n",
       "1        2       哈尔滨           64       19    NaN          NaN           1   \n",
       "2        3        南昌          774        5    3.0          2.0           0   \n",
       "3        4        天津          380       18    NaN          NaN           1   \n",
       "4        5        杭州          263        2    2.0          2.0           0   \n",
       "\n",
       "  cate_1_name cate_2_name cate_3_name  \n",
       "0          美食        休闲茶饮       饮品/甜点  \n",
       "1       超市便利店          超市         NaN  \n",
       "2          美食        休闲茶饮          奶茶  \n",
       "3       超市便利店          超市         NaN  \n",
       "4          美食        休闲食品        生鲜水果  "
      ]
     },
     "execution_count": 2,
     "metadata": {},
     "output_type": "execute_result"
    }
   ],
   "source": [
    "df_shop = pd.read_csv('../data/shop_info.txt', header=None)\n",
    "df_shop.columns = ['shop_id', 'city_name', 'location_id', 'per_pay',\n",
    "                             'score', 'comment_cnt', 'shop_level', 'cate_1_name', 'cate_2_name', 'cate_3_name']\n",
    "df_shop.head()"
   ]
  },
  {
   "cell_type": "code",
   "execution_count": 3,
   "metadata": {},
   "outputs": [
    {
     "name": "stdout",
     "output_type": "stream",
     "text": [
      "<class 'pandas.core.frame.DataFrame'>\n",
      "RangeIndex: 2000 entries, 0 to 1999\n",
      "Data columns (total 10 columns):\n",
      " #   Column       Non-Null Count  Dtype  \n",
      "---  ------       --------------  -----  \n",
      " 0   shop_id      2000 non-null   int64  \n",
      " 1   city_name    2000 non-null   object \n",
      " 2   location_id  2000 non-null   int64  \n",
      " 3   per_pay      2000 non-null   int64  \n",
      " 4   score        1709 non-null   float64\n",
      " 5   comment_cnt  1709 non-null   float64\n",
      " 6   shop_level   2000 non-null   int64  \n",
      " 7   cate_1_name  2000 non-null   object \n",
      " 8   cate_2_name  2000 non-null   object \n",
      " 9   cate_3_name  1415 non-null   object \n",
      "dtypes: float64(2), int64(4), object(4)\n",
      "memory usage: 156.4+ KB\n"
     ]
    }
   ],
   "source": [
    "df_shop.info()"
   ]
  },
  {
   "cell_type": "code",
   "execution_count": 4,
   "metadata": {},
   "outputs": [
    {
     "data": {
      "text/html": [
       "<div>\n",
       "<style scoped>\n",
       "    .dataframe tbody tr th:only-of-type {\n",
       "        vertical-align: middle;\n",
       "    }\n",
       "\n",
       "    .dataframe tbody tr th {\n",
       "        vertical-align: top;\n",
       "    }\n",
       "\n",
       "    .dataframe thead th {\n",
       "        text-align: right;\n",
       "    }\n",
       "</style>\n",
       "<table border=\"1\" class=\"dataframe\">\n",
       "  <thead>\n",
       "    <tr style=\"text-align: right;\">\n",
       "      <th></th>\n",
       "      <th>shop_id</th>\n",
       "      <th>location_id</th>\n",
       "      <th>per_pay</th>\n",
       "      <th>score</th>\n",
       "      <th>comment_cnt</th>\n",
       "      <th>shop_level</th>\n",
       "    </tr>\n",
       "  </thead>\n",
       "  <tbody>\n",
       "    <tr>\n",
       "      <th>count</th>\n",
       "      <td>2000.000000</td>\n",
       "      <td>2000.000000</td>\n",
       "      <td>2000.000000</td>\n",
       "      <td>1709.000000</td>\n",
       "      <td>1709.000000</td>\n",
       "      <td>2000.000000</td>\n",
       "    </tr>\n",
       "    <tr>\n",
       "      <th>mean</th>\n",
       "      <td>1000.500000</td>\n",
       "      <td>583.083000</td>\n",
       "      <td>10.479000</td>\n",
       "      <td>2.677004</td>\n",
       "      <td>3.130486</td>\n",
       "      <td>0.814500</td>\n",
       "    </tr>\n",
       "    <tr>\n",
       "      <th>std</th>\n",
       "      <td>577.494589</td>\n",
       "      <td>335.763357</td>\n",
       "      <td>5.762479</td>\n",
       "      <td>1.024211</td>\n",
       "      <td>3.499072</td>\n",
       "      <td>0.855836</td>\n",
       "    </tr>\n",
       "    <tr>\n",
       "      <th>min</th>\n",
       "      <td>1.000000</td>\n",
       "      <td>1.000000</td>\n",
       "      <td>1.000000</td>\n",
       "      <td>0.000000</td>\n",
       "      <td>0.000000</td>\n",
       "      <td>0.000000</td>\n",
       "    </tr>\n",
       "    <tr>\n",
       "      <th>25%</th>\n",
       "      <td>500.750000</td>\n",
       "      <td>287.750000</td>\n",
       "      <td>5.000000</td>\n",
       "      <td>2.000000</td>\n",
       "      <td>1.000000</td>\n",
       "      <td>0.000000</td>\n",
       "    </tr>\n",
       "    <tr>\n",
       "      <th>50%</th>\n",
       "      <td>1000.500000</td>\n",
       "      <td>577.500000</td>\n",
       "      <td>10.000000</td>\n",
       "      <td>3.000000</td>\n",
       "      <td>2.000000</td>\n",
       "      <td>1.000000</td>\n",
       "    </tr>\n",
       "    <tr>\n",
       "      <th>75%</th>\n",
       "      <td>1500.250000</td>\n",
       "      <td>877.250000</td>\n",
       "      <td>15.000000</td>\n",
       "      <td>3.000000</td>\n",
       "      <td>4.000000</td>\n",
       "      <td>2.000000</td>\n",
       "    </tr>\n",
       "    <tr>\n",
       "      <th>max</th>\n",
       "      <td>2000.000000</td>\n",
       "      <td>1159.000000</td>\n",
       "      <td>20.000000</td>\n",
       "      <td>4.000000</td>\n",
       "      <td>20.000000</td>\n",
       "      <td>2.000000</td>\n",
       "    </tr>\n",
       "  </tbody>\n",
       "</table>\n",
       "</div>"
      ],
      "text/plain": [
       "           shop_id  location_id      per_pay        score  comment_cnt  \\\n",
       "count  2000.000000  2000.000000  2000.000000  1709.000000  1709.000000   \n",
       "mean   1000.500000   583.083000    10.479000     2.677004     3.130486   \n",
       "std     577.494589   335.763357     5.762479     1.024211     3.499072   \n",
       "min       1.000000     1.000000     1.000000     0.000000     0.000000   \n",
       "25%     500.750000   287.750000     5.000000     2.000000     1.000000   \n",
       "50%    1000.500000   577.500000    10.000000     3.000000     2.000000   \n",
       "75%    1500.250000   877.250000    15.000000     3.000000     4.000000   \n",
       "max    2000.000000  1159.000000    20.000000     4.000000    20.000000   \n",
       "\n",
       "        shop_level  \n",
       "count  2000.000000  \n",
       "mean      0.814500  \n",
       "std       0.855836  \n",
       "min       0.000000  \n",
       "25%       0.000000  \n",
       "50%       1.000000  \n",
       "75%       2.000000  \n",
       "max       2.000000  "
      ]
     },
     "execution_count": 4,
     "metadata": {},
     "output_type": "execute_result"
    }
   ],
   "source": [
    "df_shop.describe()"
   ]
  },
  {
   "cell_type": "code",
   "execution_count": 5,
   "metadata": {},
   "outputs": [
    {
     "name": "stdout",
     "output_type": "stream",
     "text": [
      "['上海', '杭州', '北京', '广州', '南京', '武汉', '深圳', '温州', '苏州', '宁波', '福州', '成都', '绍兴', '厦门', '无锡', '济南', '金华', '青岛', '合肥', '常州', '南昌', '佛山', '重庆', '天津', '西安', '长沙', '南宁', '大连', '郑州', '沈阳', '东莞', '嘉兴', '南通', '珠海', '泉州', '惠州', '石家庄', '台州', '湖州', '哈尔滨', '淮安', '扬州', '江门', '漳州', '徐州', '孝感', '镇江', '宜昌', '襄阳', '贵阳', '昆明', '黄石', '蚌埠', '太原', '南平', '泰州', '中山', '潍坊', '舟山', '株洲', '衢州', '莆田', '黄冈', '黄山', '湛江', '咸宁', '济宁', '烟台', '芜湖', '宁德', '阜阳', '盐城', '十堰', '汉中', '淮北', '廊坊', '日照', '东营', '宝鸡', '肇庆', '锦州', '荆门', '葫芦岛', '石河子', '威海', '宿迁', '铜陵', '通辽', '三明', '保定', '自贡', '德阳', '安康', '龙岩', '邢台', '汕尾', '思茅', '乐山', '梧州', '辽阳', '营口', '上饶', '三亚', '濮阳', '抚顺', '绵阳', '聊城', '洛阳', '柳州', '长治', '六安', '达州', '张家口', '荆州', '信阳', '邯郸', '丽水', '咸阳', '玉林', '天门', '阳江', '清远']\n"
     ]
    }
   ],
   "source": [
    "# 商铺分别分布在122个城市\n",
    "tmp = df_shop['city_name'].value_counts().reset_index()\n",
    "print(list(tmp['index']))"
   ]
  },
  {
   "cell_type": "code",
   "execution_count": 6,
   "metadata": {},
   "outputs": [
    {
     "name": "stdout",
     "output_type": "stream",
     "text": [
      "消费级别最小:1,消费级别最大20\n"
     ]
    },
    {
     "data": {
      "text/plain": [
       "<matplotlib.axes._subplots.AxesSubplot at 0x2570981ca88>"
      ]
     },
     "execution_count": 6,
     "metadata": {},
     "output_type": "execute_result"
    },
    {
     "data": {
      "image/png": "[encoded data removed]",
      "text/plain": [
       "<Figure size 432x288 with 1 Axes>"
      ]
     },
     "metadata": {
      "needs_background": "light"
     },
     "output_type": "display_data"
    }
   ],
   "source": [
    "min_perpay = df_shop['per_pay'].min()\n",
    "max_perpay = df_shop['per_pay'].max()\n",
    "print(f'消费级别最小:{min_perpay},消费级别最大{max_perpay}')\n",
    "sns.distplot(df_shop['per_pay'])"
   ]
  },
  {
   "cell_type": "code",
   "execution_count": 7,
   "metadata": {},
   "outputs": [
    {
     "name": "stdout",
     "output_type": "stream",
     "text": [
      "评分最小:0.0,评分最大4.0\n"
     ]
    },
    {
     "data": {
      "text/plain": [
       "<matplotlib.axes._subplots.AxesSubplot at 0x2570b8c26c8>"
      ]
     },
     "execution_count": 7,
     "metadata": {},
     "output_type": "execute_result"
    },
    {
     "data": {
      "image/png": "[encoded data removed]",
      "text/plain": [
       "<Figure size 432x288 with 1 Axes>"
      ]
     },
     "metadata": {
      "needs_background": "light"
     },
     "output_type": "display_data"
    }
   ],
   "source": [
    "min_perpay = df_shop['score'].min()\n",
    "max_perpay = df_shop['score'].max()\n",
    "print(f'评分最小:{min_perpay},评分最大{max_perpay}')\n",
    "sns.distplot(df_shop['score'])"
   ]
  },
  {
   "cell_type": "code",
   "execution_count": 8,
   "metadata": {},
   "outputs": [
    {
     "name": "stdout",
     "output_type": "stream",
     "text": [
      "评论数量最小:0.0,评论数量最大20.0\n"
     ]
    },
    {
     "data": {
      "text/plain": [
       "<matplotlib.axes._subplots.AxesSubplot at 0x2570b9cfc88>"
      ]
     },
     "execution_count": 8,
     "metadata": {},
     "output_type": "execute_result"
    },
    {
     "data": {
      "image/png": "[encoded data removed]",
      "text/plain": [
       "<Figure size 432x288 with 1 Axes>"
      ]
     },
     "metadata": {
      "needs_background": "light"
     },
     "output_type": "display_data"
    }
   ],
   "source": [
    "min_perpay = df_shop['comment_cnt'].min()\n",
    "max_perpay = df_shop['comment_cnt'].max()\n",
    "print(f'评论数量最小:{min_perpay},评论数量最大{max_perpay}')\n",
    "sns.distplot(df_shop['comment_cnt'])"
   ]
  },
  {
   "cell_type": "code",
   "execution_count": 9,
   "metadata": {},
   "outputs": [
    {
     "name": "stdout",
     "output_type": "stream",
     "text": [
      "商铺级别最小:0,商铺级别最大2\n"
     ]
    },
    {
     "data": {
      "text/plain": [
       "<matplotlib.axes._subplots.AxesSubplot at 0x2570baae2c8>"
      ]
     },
     "execution_count": 9,
     "metadata": {},
     "output_type": "execute_result"
    },
    {
     "data": {
      "image/png": "[encoded data removed]",
      "text/plain": [
       "<Figure size 432x288 with 1 Axes>"
      ]
     },
     "metadata": {
      "needs_background": "light"
     },
     "output_type": "display_data"
    }
   ],
   "source": [
    "min_shop_level = df_shop['shop_level'].min()\n",
    "max_shop_level = df_shop['shop_level'].max()\n",
    "print(f'商铺级别最小:{min_shop_level},商铺级别最大{max_shop_level}')\n",
    "sns.distplot(df_shop['shop_level'])"
   ]
  },
  {
   "cell_type": "code",
   "execution_count": 10,
   "metadata": {},
   "outputs": [
    {
     "data": {
      "text/plain": [
       "美食          1415\n",
       "超市便利店        579\n",
       "医疗健康           2\n",
       "休闲娱乐           2\n",
       "购物             1\n",
       "美发/美容/美甲       1\n",
       "Name: cate_1_name, dtype: int64"
      ]
     },
     "execution_count": 10,
     "metadata": {},
     "output_type": "execute_result"
    }
   ],
   "source": [
    "### 大部分是美食和超市便利店\n",
    "df_shop['cate_1_name'].value_counts()"
   ]
  },
  {
   "cell_type": "code",
   "execution_count": 11,
   "metadata": {},
   "outputs": [
    {
     "data": {
      "text/html": [
       "<div>\n",
       "<style scoped>\n",
       "    .dataframe tbody tr th:only-of-type {\n",
       "        vertical-align: middle;\n",
       "    }\n",
       "\n",
       "    .dataframe tbody tr th {\n",
       "        vertical-align: top;\n",
       "    }\n",
       "\n",
       "    .dataframe thead th {\n",
       "        text-align: right;\n",
       "    }\n",
       "</style>\n",
       "<table border=\"1\" class=\"dataframe\">\n",
       "  <thead>\n",
       "    <tr style=\"text-align: right;\">\n",
       "      <th></th>\n",
       "      <th>cate_1_name</th>\n",
       "      <th>cate_2_name</th>\n",
       "      <th>cate_3_name</th>\n",
       "      <th>0</th>\n",
       "    </tr>\n",
       "  </thead>\n",
       "  <tbody>\n",
       "    <tr>\n",
       "      <th>32</th>\n",
       "      <td>美食</td>\n",
       "      <td>快餐</td>\n",
       "      <td>西式快餐</td>\n",
       "      <td>405</td>\n",
       "    </tr>\n",
       "    <tr>\n",
       "      <th>30</th>\n",
       "      <td>美食</td>\n",
       "      <td>快餐</td>\n",
       "      <td>中式快餐</td>\n",
       "      <td>220</td>\n",
       "    </tr>\n",
       "    <tr>\n",
       "      <th>19</th>\n",
       "      <td>美食</td>\n",
       "      <td>休闲食品</td>\n",
       "      <td>生鲜水果</td>\n",
       "      <td>111</td>\n",
       "    </tr>\n",
       "    <tr>\n",
       "      <th>16</th>\n",
       "      <td>美食</td>\n",
       "      <td>休闲茶饮</td>\n",
       "      <td>奶茶</td>\n",
       "      <td>92</td>\n",
       "    </tr>\n",
       "    <tr>\n",
       "      <th>26</th>\n",
       "      <td>美食</td>\n",
       "      <td>小吃</td>\n",
       "      <td>其它小吃</td>\n",
       "      <td>87</td>\n",
       "    </tr>\n",
       "    <tr>\n",
       "      <th>40</th>\n",
       "      <td>美食</td>\n",
       "      <td>烘焙糕点</td>\n",
       "      <td>面包</td>\n",
       "      <td>71</td>\n",
       "    </tr>\n",
       "    <tr>\n",
       "      <th>17</th>\n",
       "      <td>美食</td>\n",
       "      <td>休闲茶饮</td>\n",
       "      <td>饮品/甜点</td>\n",
       "      <td>67</td>\n",
       "    </tr>\n",
       "    <tr>\n",
       "      <th>29</th>\n",
       "      <td>美食</td>\n",
       "      <td>小吃</td>\n",
       "      <td>面点</td>\n",
       "      <td>50</td>\n",
       "    </tr>\n",
       "    <tr>\n",
       "      <th>39</th>\n",
       "      <td>美食</td>\n",
       "      <td>烘焙糕点</td>\n",
       "      <td>蛋糕</td>\n",
       "      <td>39</td>\n",
       "    </tr>\n",
       "    <tr>\n",
       "      <th>21</th>\n",
       "      <td>美食</td>\n",
       "      <td>休闲食品</td>\n",
       "      <td>零食</td>\n",
       "      <td>22</td>\n",
       "    </tr>\n",
       "    <tr>\n",
       "      <th>2</th>\n",
       "      <td>美食</td>\n",
       "      <td>中餐</td>\n",
       "      <td>其它地方菜</td>\n",
       "      <td>20</td>\n",
       "    </tr>\n",
       "    <tr>\n",
       "      <th>25</th>\n",
       "      <td>美食</td>\n",
       "      <td>其他美食</td>\n",
       "      <td>西餐</td>\n",
       "      <td>19</td>\n",
       "    </tr>\n",
       "    <tr>\n",
       "      <th>18</th>\n",
       "      <td>美食</td>\n",
       "      <td>休闲食品</td>\n",
       "      <td>其它休闲食品</td>\n",
       "      <td>16</td>\n",
       "    </tr>\n",
       "    <tr>\n",
       "      <th>23</th>\n",
       "      <td>美食</td>\n",
       "      <td>其他美食</td>\n",
       "      <td>日韩料理</td>\n",
       "      <td>15</td>\n",
       "    </tr>\n",
       "    <tr>\n",
       "      <th>28</th>\n",
       "      <td>美食</td>\n",
       "      <td>小吃</td>\n",
       "      <td>米粉/米线</td>\n",
       "      <td>15</td>\n",
       "    </tr>\n",
       "    <tr>\n",
       "      <th>31</th>\n",
       "      <td>美食</td>\n",
       "      <td>快餐</td>\n",
       "      <td>其它快餐</td>\n",
       "      <td>14</td>\n",
       "    </tr>\n",
       "    <tr>\n",
       "      <th>36</th>\n",
       "      <td>美食</td>\n",
       "      <td>火锅</td>\n",
       "      <td>川味/重庆火锅</td>\n",
       "      <td>13</td>\n",
       "    </tr>\n",
       "    <tr>\n",
       "      <th>4</th>\n",
       "      <td>美食</td>\n",
       "      <td>中餐</td>\n",
       "      <td>川菜</td>\n",
       "      <td>13</td>\n",
       "    </tr>\n",
       "    <tr>\n",
       "      <th>5</th>\n",
       "      <td>美食</td>\n",
       "      <td>中餐</td>\n",
       "      <td>江浙菜</td>\n",
       "      <td>13</td>\n",
       "    </tr>\n",
       "    <tr>\n",
       "      <th>9</th>\n",
       "      <td>美食</td>\n",
       "      <td>中餐</td>\n",
       "      <td>粤菜</td>\n",
       "      <td>12</td>\n",
       "    </tr>\n",
       "    <tr>\n",
       "      <th>38</th>\n",
       "      <td>美食</td>\n",
       "      <td>烘焙糕点</td>\n",
       "      <td>其它烘焙糕点</td>\n",
       "      <td>12</td>\n",
       "    </tr>\n",
       "    <tr>\n",
       "      <th>35</th>\n",
       "      <td>美食</td>\n",
       "      <td>火锅</td>\n",
       "      <td>其它火锅</td>\n",
       "      <td>11</td>\n",
       "    </tr>\n",
       "    <tr>\n",
       "      <th>13</th>\n",
       "      <td>美食</td>\n",
       "      <td>休闲茶饮</td>\n",
       "      <td>冰激凌</td>\n",
       "      <td>10</td>\n",
       "    </tr>\n",
       "    <tr>\n",
       "      <th>37</th>\n",
       "      <td>美食</td>\n",
       "      <td>火锅</td>\n",
       "      <td>麻辣烫/串串香</td>\n",
       "      <td>9</td>\n",
       "    </tr>\n",
       "    <tr>\n",
       "      <th>41</th>\n",
       "      <td>美食</td>\n",
       "      <td>烧烤</td>\n",
       "      <td>中式烧烤</td>\n",
       "      <td>8</td>\n",
       "    </tr>\n",
       "    <tr>\n",
       "      <th>22</th>\n",
       "      <td>美食</td>\n",
       "      <td>其他美食</td>\n",
       "      <td>其他餐饮美食</td>\n",
       "      <td>7</td>\n",
       "    </tr>\n",
       "    <tr>\n",
       "      <th>14</th>\n",
       "      <td>美食</td>\n",
       "      <td>休闲茶饮</td>\n",
       "      <td>咖啡</td>\n",
       "      <td>6</td>\n",
       "    </tr>\n",
       "    <tr>\n",
       "      <th>10</th>\n",
       "      <td>美食</td>\n",
       "      <td>中餐</td>\n",
       "      <td>西北菜</td>\n",
       "      <td>6</td>\n",
       "    </tr>\n",
       "    <tr>\n",
       "      <th>27</th>\n",
       "      <td>美食</td>\n",
       "      <td>小吃</td>\n",
       "      <td>熟食</td>\n",
       "      <td>4</td>\n",
       "    </tr>\n",
       "    <tr>\n",
       "      <th>33</th>\n",
       "      <td>美食</td>\n",
       "      <td>汤/粥/煲/砂锅/炖菜</td>\n",
       "      <td>砂锅/煲类/炖菜</td>\n",
       "      <td>4</td>\n",
       "    </tr>\n",
       "    <tr>\n",
       "      <th>24</th>\n",
       "      <td>美食</td>\n",
       "      <td>其他美食</td>\n",
       "      <td>自助餐</td>\n",
       "      <td>3</td>\n",
       "    </tr>\n",
       "    <tr>\n",
       "      <th>6</th>\n",
       "      <td>美食</td>\n",
       "      <td>中餐</td>\n",
       "      <td>海鲜</td>\n",
       "      <td>3</td>\n",
       "    </tr>\n",
       "    <tr>\n",
       "      <th>1</th>\n",
       "      <td>美食</td>\n",
       "      <td>中餐</td>\n",
       "      <td>东北菜</td>\n",
       "      <td>3</td>\n",
       "    </tr>\n",
       "    <tr>\n",
       "      <th>34</th>\n",
       "      <td>美食</td>\n",
       "      <td>汤/粥/煲/砂锅/炖菜</td>\n",
       "      <td>粥</td>\n",
       "      <td>3</td>\n",
       "    </tr>\n",
       "    <tr>\n",
       "      <th>3</th>\n",
       "      <td>美食</td>\n",
       "      <td>中餐</td>\n",
       "      <td>台湾菜</td>\n",
       "      <td>2</td>\n",
       "    </tr>\n",
       "    <tr>\n",
       "      <th>15</th>\n",
       "      <td>美食</td>\n",
       "      <td>休闲茶饮</td>\n",
       "      <td>咖啡厅</td>\n",
       "      <td>2</td>\n",
       "    </tr>\n",
       "    <tr>\n",
       "      <th>7</th>\n",
       "      <td>美食</td>\n",
       "      <td>中餐</td>\n",
       "      <td>湖北菜</td>\n",
       "      <td>2</td>\n",
       "    </tr>\n",
       "    <tr>\n",
       "      <th>0</th>\n",
       "      <td>美食</td>\n",
       "      <td>中餐</td>\n",
       "      <td>上海本帮菜</td>\n",
       "      <td>1</td>\n",
       "    </tr>\n",
       "    <tr>\n",
       "      <th>20</th>\n",
       "      <td>美食</td>\n",
       "      <td>休闲食品</td>\n",
       "      <td>美食特产</td>\n",
       "      <td>1</td>\n",
       "    </tr>\n",
       "    <tr>\n",
       "      <th>12</th>\n",
       "      <td>美食</td>\n",
       "      <td>中餐</td>\n",
       "      <td>香锅/烤鱼</td>\n",
       "      <td>1</td>\n",
       "    </tr>\n",
       "    <tr>\n",
       "      <th>11</th>\n",
       "      <td>美食</td>\n",
       "      <td>中餐</td>\n",
       "      <td>闽菜</td>\n",
       "      <td>1</td>\n",
       "    </tr>\n",
       "    <tr>\n",
       "      <th>8</th>\n",
       "      <td>美食</td>\n",
       "      <td>中餐</td>\n",
       "      <td>湘菜</td>\n",
       "      <td>1</td>\n",
       "    </tr>\n",
       "    <tr>\n",
       "      <th>42</th>\n",
       "      <td>美食</td>\n",
       "      <td>烧烤</td>\n",
       "      <td>其它烧烤</td>\n",
       "      <td>1</td>\n",
       "    </tr>\n",
       "  </tbody>\n",
       "</table>\n",
       "</div>"
      ],
      "text/plain": [
       "   cate_1_name  cate_2_name cate_3_name    0\n",
       "32          美食           快餐        西式快餐  405\n",
       "30          美食           快餐        中式快餐  220\n",
       "19          美食         休闲食品        生鲜水果  111\n",
       "16          美食         休闲茶饮          奶茶   92\n",
       "26          美食           小吃        其它小吃   87\n",
       "40          美食         烘焙糕点          面包   71\n",
       "17          美食         休闲茶饮       饮品/甜点   67\n",
       "29          美食           小吃          面点   50\n",
       "39          美食         烘焙糕点          蛋糕   39\n",
       "21          美食         休闲食品          零食   22\n",
       "2           美食           中餐       其它地方菜   20\n",
       "25          美食         其他美食          西餐   19\n",
       "18          美食         休闲食品      其它休闲食品   16\n",
       "23          美食         其他美食        日韩料理   15\n",
       "28          美食           小吃       米粉/米线   15\n",
       "31          美食           快餐        其它快餐   14\n",
       "36          美食           火锅     川味/重庆火锅   13\n",
       "4           美食           中餐          川菜   13\n",
       "5           美食           中餐         江浙菜   13\n",
       "9           美食           中餐          粤菜   12\n",
       "38          美食         烘焙糕点      其它烘焙糕点   12\n",
       "35          美食           火锅        其它火锅   11\n",
       "13          美食         休闲茶饮         冰激凌   10\n",
       "37          美食           火锅     麻辣烫/串串香    9\n",
       "41          美食           烧烤        中式烧烤    8\n",
       "22          美食         其他美食      其他餐饮美食    7\n",
       "14          美食         休闲茶饮          咖啡    6\n",
       "10          美食           中餐         西北菜    6\n",
       "27          美食           小吃          熟食    4\n",
       "33          美食  汤/粥/煲/砂锅/炖菜    砂锅/煲类/炖菜    4\n",
       "24          美食         其他美食         自助餐    3\n",
       "6           美食           中餐          海鲜    3\n",
       "1           美食           中餐         东北菜    3\n",
       "34          美食  汤/粥/煲/砂锅/炖菜           粥    3\n",
       "3           美食           中餐         台湾菜    2\n",
       "15          美食         休闲茶饮         咖啡厅    2\n",
       "7           美食           中餐         湖北菜    2\n",
       "0           美食           中餐       上海本帮菜    1\n",
       "20          美食         休闲食品        美食特产    1\n",
       "12          美食           中餐       香锅/烤鱼    1\n",
       "11          美食           中餐          闽菜    1\n",
       "8           美食           中餐          湘菜    1\n",
       "42          美食           烧烤        其它烧烤    1"
      ]
     },
     "execution_count": 11,
     "metadata": {},
     "output_type": "execute_result"
    }
   ],
   "source": [
    "tmp = df_shop.groupby(['cate_1_name', 'cate_2_name',\n",
    "                       'cate_3_name']).size().reset_index()\n",
    "tmp = tmp.sort_values(0, ascending=False)\n",
    "tmp"
   ]
  },
  {
   "cell_type": "markdown",
   "metadata": {},
   "source": [
    "### 加载浏览数据"
   ]
  },
  {
   "cell_type": "code",
   "execution_count": 12,
   "metadata": {},
   "outputs": [
    {
     "data": {
      "text/html": [
       "<div>\n",
       "<style scoped>\n",
       "    .dataframe tbody tr th:only-of-type {\n",
       "        vertical-align: middle;\n",
       "    }\n",
       "\n",
       "    .dataframe tbody tr th {\n",
       "        vertical-align: top;\n",
       "    }\n",
       "\n",
       "    .dataframe thead th {\n",
       "        text-align: right;\n",
       "    }\n",
       "</style>\n",
       "<table border=\"1\" class=\"dataframe\">\n",
       "  <thead>\n",
       "    <tr style=\"text-align: right;\">\n",
       "      <th></th>\n",
       "      <th>user_id</th>\n",
       "      <th>shop_id</th>\n",
       "      <th>timestamp</th>\n",
       "    </tr>\n",
       "  </thead>\n",
       "  <tbody>\n",
       "    <tr>\n",
       "      <th>0</th>\n",
       "      <td>13201967</td>\n",
       "      <td>1197</td>\n",
       "      <td>2016-10-21 18:00:00</td>\n",
       "    </tr>\n",
       "    <tr>\n",
       "      <th>1</th>\n",
       "      <td>19461365</td>\n",
       "      <td>1197</td>\n",
       "      <td>2016-06-28 23:00:00</td>\n",
       "    </tr>\n",
       "    <tr>\n",
       "      <th>2</th>\n",
       "      <td>15022321</td>\n",
       "      <td>1197</td>\n",
       "      <td>2016-07-16 19:00:00</td>\n",
       "    </tr>\n",
       "    <tr>\n",
       "      <th>3</th>\n",
       "      <td>5440872</td>\n",
       "      <td>1197</td>\n",
       "      <td>2016-07-15 07:00:00</td>\n",
       "    </tr>\n",
       "    <tr>\n",
       "      <th>4</th>\n",
       "      <td>12594529</td>\n",
       "      <td>1197</td>\n",
       "      <td>2016-08-07 16:00:00</td>\n",
       "    </tr>\n",
       "  </tbody>\n",
       "</table>\n",
       "</div>"
      ],
      "text/plain": [
       "    user_id  shop_id            timestamp\n",
       "0  13201967     1197  2016-10-21 18:00:00\n",
       "1  19461365     1197  2016-06-28 23:00:00\n",
       "2  15022321     1197  2016-07-16 19:00:00\n",
       "3   5440872     1197  2016-07-15 07:00:00\n",
       "4  12594529     1197  2016-08-07 16:00:00"
      ]
     },
     "execution_count": 12,
     "metadata": {},
     "output_type": "execute_result"
    }
   ],
   "source": [
    "df_browser = pd.read_csv('../data/user_view.txt', header=None)\n",
    "df_browser.columns = ['user_id', 'shop_id', 'timestamp']\n",
    "df_browser.head()"
   ]
  },
  {
   "cell_type": "code",
   "execution_count": 13,
   "metadata": {},
   "outputs": [
    {
     "name": "stdout",
     "output_type": "stream",
     "text": [
      "<class 'pandas.core.frame.DataFrame'>\n",
      "RangeIndex: 5556715 entries, 0 to 5556714\n",
      "Data columns (total 3 columns):\n",
      " #   Column     Dtype \n",
      "---  ------     ----- \n",
      " 0   user_id    int64 \n",
      " 1   shop_id    int64 \n",
      " 2   timestamp  object\n",
      "dtypes: int64(2), object(1)\n",
      "memory usage: 127.2+ MB\n"
     ]
    }
   ],
   "source": [
    "# 浏览数据有5556715\n",
    "df_browser.info()"
   ]
  },
  {
   "cell_type": "code",
   "execution_count": 14,
   "metadata": {},
   "outputs": [
    {
     "name": "stdout",
     "output_type": "stream",
     "text": [
      "用户数量：3683210,商铺数量:1997,最早统计时间2016-06-22 00:00:00,最晚统计时间2016-10-31 23:00:00\n"
     ]
    }
   ],
   "source": [
    "user_count = len(df_browser['user_id'].unique())\n",
    "shop_count = len(df_browser['shop_id'].unique())\n",
    "min_ts = df_browser['timestamp'].min()\n",
    "max_ts = df_browser['timestamp'].max()\n",
    "print(f'用户数量：{user_count},商铺数量:{shop_count},最早统计时间{min_ts},最晚统计时间{max_ts}')"
   ]
  },
  {
   "cell_type": "code",
   "execution_count": 15,
   "metadata": {},
   "outputs": [],
   "source": [
    "def get_date_dim(df, ts_col='timestamp'):\n",
    "    df[ts_col] = pd.to_datetime(df[ts_col])\n",
    "    df['month'] = df[ts_col].dt.month\n",
    "    df['date'] = df[ts_col].dt.date\n",
    "    df['hour'] = df[ts_col].dt.hour\n",
    "    df['day_of_week'] = df[ts_col].dt.dayofweek\n",
    "    df['weekend'] = df['day_of_week'].apply(lambda x: 1 if x in [5, 6] else 0)\n",
    "    return df"
   ]
  },
  {
   "cell_type": "code",
   "execution_count": 16,
   "metadata": {},
   "outputs": [
    {
     "data": {
      "text/html": [
       "<div>\n",
       "<style scoped>\n",
       "    .dataframe tbody tr th:only-of-type {\n",
       "        vertical-align: middle;\n",
       "    }\n",
       "\n",
       "    .dataframe tbody tr th {\n",
       "        vertical-align: top;\n",
       "    }\n",
       "\n",
       "    .dataframe thead th {\n",
       "        text-align: right;\n",
       "    }\n",
       "</style>\n",
       "<table border=\"1\" class=\"dataframe\">\n",
       "  <thead>\n",
       "    <tr style=\"text-align: right;\">\n",
       "      <th></th>\n",
       "      <th>user_id</th>\n",
       "      <th>shop_id</th>\n",
       "      <th>timestamp</th>\n",
       "      <th>month</th>\n",
       "      <th>date</th>\n",
       "      <th>hour</th>\n",
       "      <th>day_of_week</th>\n",
       "      <th>weekend</th>\n",
       "    </tr>\n",
       "  </thead>\n",
       "  <tbody>\n",
       "    <tr>\n",
       "      <th>0</th>\n",
       "      <td>13201967</td>\n",
       "      <td>1197</td>\n",
       "      <td>2016-10-21 18:00:00</td>\n",
       "      <td>10</td>\n",
       "      <td>2016-10-21</td>\n",
       "      <td>18</td>\n",
       "      <td>4</td>\n",
       "      <td>0</td>\n",
       "    </tr>\n",
       "    <tr>\n",
       "      <th>1</th>\n",
       "      <td>19461365</td>\n",
       "      <td>1197</td>\n",
       "      <td>2016-06-28 23:00:00</td>\n",
       "      <td>6</td>\n",
       "      <td>2016-06-28</td>\n",
       "      <td>23</td>\n",
       "      <td>1</td>\n",
       "      <td>0</td>\n",
       "    </tr>\n",
       "    <tr>\n",
       "      <th>2</th>\n",
       "      <td>15022321</td>\n",
       "      <td>1197</td>\n",
       "      <td>2016-07-16 19:00:00</td>\n",
       "      <td>7</td>\n",
       "      <td>2016-07-16</td>\n",
       "      <td>19</td>\n",
       "      <td>5</td>\n",
       "      <td>1</td>\n",
       "    </tr>\n",
       "    <tr>\n",
       "      <th>3</th>\n",
       "      <td>5440872</td>\n",
       "      <td>1197</td>\n",
       "      <td>2016-07-15 07:00:00</td>\n",
       "      <td>7</td>\n",
       "      <td>2016-07-15</td>\n",
       "      <td>7</td>\n",
       "      <td>4</td>\n",
       "      <td>0</td>\n",
       "    </tr>\n",
       "    <tr>\n",
       "      <th>4</th>\n",
       "      <td>12594529</td>\n",
       "      <td>1197</td>\n",
       "      <td>2016-08-07 16:00:00</td>\n",
       "      <td>8</td>\n",
       "      <td>2016-08-07</td>\n",
       "      <td>16</td>\n",
       "      <td>6</td>\n",
       "      <td>1</td>\n",
       "    </tr>\n",
       "  </tbody>\n",
       "</table>\n",
       "</div>"
      ],
      "text/plain": [
       "    user_id  shop_id           timestamp  month        date  hour  \\\n",
       "0  13201967     1197 2016-10-21 18:00:00     10  2016-10-21    18   \n",
       "1  19461365     1197 2016-06-28 23:00:00      6  2016-06-28    23   \n",
       "2  15022321     1197 2016-07-16 19:00:00      7  2016-07-16    19   \n",
       "3   5440872     1197 2016-07-15 07:00:00      7  2016-07-15     7   \n",
       "4  12594529     1197 2016-08-07 16:00:00      8  2016-08-07    16   \n",
       "\n",
       "   day_of_week  weekend  \n",
       "0            4        0  \n",
       "1            1        0  \n",
       "2            5        1  \n",
       "3            4        0  \n",
       "4            6        1  "
      ]
     },
     "execution_count": 16,
     "metadata": {},
     "output_type": "execute_result"
    }
   ],
   "source": [
    "df_browser = get_date_dim(df_browser)\n",
    "df_browser.head()"
   ]
  },
  {
   "cell_type": "code",
   "execution_count": 17,
   "metadata": {},
   "outputs": [
    {
     "data": {
      "text/html": [
       "<div>\n",
       "<style scoped>\n",
       "    .dataframe tbody tr th:only-of-type {\n",
       "        vertical-align: middle;\n",
       "    }\n",
       "\n",
       "    .dataframe tbody tr th {\n",
       "        vertical-align: top;\n",
       "    }\n",
       "\n",
       "    .dataframe thead th {\n",
       "        text-align: right;\n",
       "    }\n",
       "</style>\n",
       "<table border=\"1\" class=\"dataframe\">\n",
       "  <thead>\n",
       "    <tr style=\"text-align: right;\">\n",
       "      <th></th>\n",
       "      <th>day_of_week</th>\n",
       "      <th>hour</th>\n",
       "      <th>0</th>\n",
       "    </tr>\n",
       "  </thead>\n",
       "  <tbody>\n",
       "    <tr>\n",
       "      <th>0</th>\n",
       "      <td>0</td>\n",
       "      <td>0</td>\n",
       "      <td>13956</td>\n",
       "    </tr>\n",
       "    <tr>\n",
       "      <th>1</th>\n",
       "      <td>0</td>\n",
       "      <td>1</td>\n",
       "      <td>7436</td>\n",
       "    </tr>\n",
       "    <tr>\n",
       "      <th>2</th>\n",
       "      <td>0</td>\n",
       "      <td>2</td>\n",
       "      <td>4150</td>\n",
       "    </tr>\n",
       "    <tr>\n",
       "      <th>3</th>\n",
       "      <td>0</td>\n",
       "      <td>3</td>\n",
       "      <td>2648</td>\n",
       "    </tr>\n",
       "    <tr>\n",
       "      <th>4</th>\n",
       "      <td>0</td>\n",
       "      <td>4</td>\n",
       "      <td>2221</td>\n",
       "    </tr>\n",
       "  </tbody>\n",
       "</table>\n",
       "</div>"
      ],
      "text/plain": [
       "   day_of_week  hour      0\n",
       "0            0     0  13956\n",
       "1            0     1   7436\n",
       "2            0     2   4150\n",
       "3            0     3   2648\n",
       "4            0     4   2221"
      ]
     },
     "execution_count": 17,
     "metadata": {},
     "output_type": "execute_result"
    }
   ],
   "source": [
    "tmp = df_browser.groupby(['day_of_week', 'hour']).size().reset_index()\n",
    "tmp.head()"
   ]
  },
  {
   "cell_type": "code",
   "execution_count": 18,
   "metadata": {},
   "outputs": [
    {
     "data": {
      "text/html": [
       "<div>\n",
       "<style scoped>\n",
       "    .dataframe tbody tr th:only-of-type {\n",
       "        vertical-align: middle;\n",
       "    }\n",
       "\n",
       "    .dataframe tbody tr th {\n",
       "        vertical-align: top;\n",
       "    }\n",
       "\n",
       "    .dataframe thead th {\n",
       "        text-align: right;\n",
       "    }\n",
       "</style>\n",
       "<table border=\"1\" class=\"dataframe\">\n",
       "  <thead>\n",
       "    <tr style=\"text-align: right;\">\n",
       "      <th></th>\n",
       "      <th>day_of_week</th>\n",
       "      <th>hour</th>\n",
       "      <th>0</th>\n",
       "      <th>week_hour</th>\n",
       "    </tr>\n",
       "  </thead>\n",
       "  <tbody>\n",
       "    <tr>\n",
       "      <th>0</th>\n",
       "      <td>0</td>\n",
       "      <td>0</td>\n",
       "      <td>13956</td>\n",
       "      <td>0-0</td>\n",
       "    </tr>\n",
       "    <tr>\n",
       "      <th>1</th>\n",
       "      <td>0</td>\n",
       "      <td>1</td>\n",
       "      <td>7436</td>\n",
       "      <td>0-1</td>\n",
       "    </tr>\n",
       "    <tr>\n",
       "      <th>2</th>\n",
       "      <td>0</td>\n",
       "      <td>2</td>\n",
       "      <td>4150</td>\n",
       "      <td>0-2</td>\n",
       "    </tr>\n",
       "    <tr>\n",
       "      <th>3</th>\n",
       "      <td>0</td>\n",
       "      <td>3</td>\n",
       "      <td>2648</td>\n",
       "      <td>0-3</td>\n",
       "    </tr>\n",
       "    <tr>\n",
       "      <th>4</th>\n",
       "      <td>0</td>\n",
       "      <td>4</td>\n",
       "      <td>2221</td>\n",
       "      <td>0-4</td>\n",
       "    </tr>\n",
       "  </tbody>\n",
       "</table>\n",
       "</div>"
      ],
      "text/plain": [
       "  day_of_week hour      0 week_hour\n",
       "0           0    0  13956       0-0\n",
       "1           0    1   7436       0-1\n",
       "2           0    2   4150       0-2\n",
       "3           0    3   2648       0-3\n",
       "4           0    4   2221       0-4"
      ]
     },
     "execution_count": 18,
     "metadata": {},
     "output_type": "execute_result"
    }
   ],
   "source": [
    "tmp['day_of_week'] = tmp['day_of_week'].astype(str)\n",
    "tmp['hour'] = tmp['hour'].astype(str)\n",
    "tmp['week_hour'] = tmp['day_of_week'].str.cat(tmp['hour'], sep='-')\n",
    "tmp.head()"
   ]
  },
  {
   "cell_type": "code",
   "execution_count": 19,
   "metadata": {},
   "outputs": [
    {
     "data": {
      "text/plain": [
       "<matplotlib.axes._subplots.AxesSubplot at 0x257177da708>"
      ]
     },
     "execution_count": 19,
     "metadata": {},
     "output_type": "execute_result"
    },
    {
     "data": {
      "image/png": "[encoded data removed]",
      "text/plain": [
       "<Figure size 432x288 with 1 Axes>"
      ]
     },
     "metadata": {
      "needs_background": "light"
     },
     "output_type": "display_data"
    }
   ],
   "source": [
    "# 可以看出 每天中午12点左右是浏览的高峰，周六上午的浏览量最高\n",
    "tmp.plot(y=0)"
   ]
  },
  {
   "cell_type": "markdown",
   "metadata": {},
   "source": [
    "### 加载交易数据"
   ]
  },
  {
   "cell_type": "code",
   "execution_count": 20,
   "metadata": {},
   "outputs": [
    {
     "data": {
      "text/html": [
       "<div>\n",
       "<style scoped>\n",
       "    .dataframe tbody tr th:only-of-type {\n",
       "        vertical-align: middle;\n",
       "    }\n",
       "\n",
       "    .dataframe tbody tr th {\n",
       "        vertical-align: top;\n",
       "    }\n",
       "\n",
       "    .dataframe thead th {\n",
       "        text-align: right;\n",
       "    }\n",
       "</style>\n",
       "<table border=\"1\" class=\"dataframe\">\n",
       "  <thead>\n",
       "    <tr style=\"text-align: right;\">\n",
       "      <th></th>\n",
       "      <th>user_id</th>\n",
       "      <th>shop_id</th>\n",
       "      <th>timestamp</th>\n",
       "    </tr>\n",
       "  </thead>\n",
       "  <tbody>\n",
       "    <tr>\n",
       "      <th>0</th>\n",
       "      <td>22127870</td>\n",
       "      <td>1862</td>\n",
       "      <td>2015-12-25 17:00:00</td>\n",
       "    </tr>\n",
       "    <tr>\n",
       "      <th>1</th>\n",
       "      <td>3434231</td>\n",
       "      <td>1862</td>\n",
       "      <td>2016-10-05 11:00:00</td>\n",
       "    </tr>\n",
       "    <tr>\n",
       "      <th>2</th>\n",
       "      <td>16955285</td>\n",
       "      <td>1862</td>\n",
       "      <td>2016-02-10 15:00:00</td>\n",
       "    </tr>\n",
       "    <tr>\n",
       "      <th>3</th>\n",
       "      <td>13799128</td>\n",
       "      <td>1862</td>\n",
       "      <td>2016-01-13 14:00:00</td>\n",
       "    </tr>\n",
       "    <tr>\n",
       "      <th>4</th>\n",
       "      <td>13799128</td>\n",
       "      <td>1862</td>\n",
       "      <td>2016-07-05 12:00:00</td>\n",
       "    </tr>\n",
       "  </tbody>\n",
       "</table>\n",
       "</div>"
      ],
      "text/plain": [
       "    user_id  shop_id            timestamp\n",
       "0  22127870     1862  2015-12-25 17:00:00\n",
       "1   3434231     1862  2016-10-05 11:00:00\n",
       "2  16955285     1862  2016-02-10 15:00:00\n",
       "3  13799128     1862  2016-01-13 14:00:00\n",
       "4  13799128     1862  2016-07-05 12:00:00"
      ]
     },
     "execution_count": 20,
     "metadata": {},
     "output_type": "execute_result"
    }
   ],
   "source": [
    "df_pay = pd.read_csv('../data/user_pay.txt', header=None)\n",
    "df_pay.columns = ['user_id', 'shop_id', 'timestamp']\n",
    "df_pay.head()"
   ]
  },
  {
   "cell_type": "code",
   "execution_count": 21,
   "metadata": {},
   "outputs": [
    {
     "name": "stdout",
     "output_type": "stream",
     "text": [
      "<class 'pandas.core.frame.DataFrame'>\n",
      "RangeIndex: 69674110 entries, 0 to 69674109\n",
      "Data columns (total 3 columns):\n",
      " #   Column     Dtype \n",
      "---  ------     ----- \n",
      " 0   user_id    int64 \n",
      " 1   shop_id    int64 \n",
      " 2   timestamp  object\n",
      "dtypes: int64(2), object(1)\n",
      "memory usage: 1.6+ GB\n"
     ]
    }
   ],
   "source": [
    "# 交易数据有69674110\n",
    "df_pay.info()"
   ]
  },
  {
   "cell_type": "code",
   "execution_count": 22,
   "metadata": {},
   "outputs": [
    {
     "name": "stdout",
     "output_type": "stream",
     "text": [
      "用户数量：19583949,商铺数量:2000,最早统计时间2015-06-26 06:00:00,最晚统计时间2016-10-31 23:00:00\n"
     ]
    }
   ],
   "source": [
    "user_count = len(df_pay['user_id'].unique())\n",
    "shop_count = len(df_pay['shop_id'].unique())\n",
    "min_ts = df_pay['timestamp'].min()\n",
    "max_ts = df_pay['timestamp'].max()\n",
    "print(f'用户数量：{user_count},商铺数量:{shop_count},最早统计时间{min_ts},最晚统计时间{max_ts}')"
   ]
  },
  {
   "cell_type": "code",
   "execution_count": 23,
   "metadata": {},
   "outputs": [
    {
     "data": {
      "text/html": [
       "<div>\n",
       "<style scoped>\n",
       "    .dataframe tbody tr th:only-of-type {\n",
       "        vertical-align: middle;\n",
       "    }\n",
       "\n",
       "    .dataframe tbody tr th {\n",
       "        vertical-align: top;\n",
       "    }\n",
       "\n",
       "    .dataframe thead th {\n",
       "        text-align: right;\n",
       "    }\n",
       "</style>\n",
       "<table border=\"1\" class=\"dataframe\">\n",
       "  <thead>\n",
       "    <tr style=\"text-align: right;\">\n",
       "      <th></th>\n",
       "      <th>user_id</th>\n",
       "      <th>shop_id</th>\n",
       "      <th>timestamp</th>\n",
       "      <th>month</th>\n",
       "      <th>date</th>\n",
       "      <th>hour</th>\n",
       "      <th>day_of_week</th>\n",
       "      <th>weekend</th>\n",
       "    </tr>\n",
       "  </thead>\n",
       "  <tbody>\n",
       "    <tr>\n",
       "      <th>0</th>\n",
       "      <td>22127870</td>\n",
       "      <td>1862</td>\n",
       "      <td>2015-12-25 17:00:00</td>\n",
       "      <td>12</td>\n",
       "      <td>2015-12-25</td>\n",
       "      <td>17</td>\n",
       "      <td>4</td>\n",
       "      <td>0</td>\n",
       "    </tr>\n",
       "    <tr>\n",
       "      <th>1</th>\n",
       "      <td>3434231</td>\n",
       "      <td>1862</td>\n",
       "      <td>2016-10-05 11:00:00</td>\n",
       "      <td>10</td>\n",
       "      <td>2016-10-05</td>\n",
       "      <td>11</td>\n",
       "      <td>2</td>\n",
       "      <td>0</td>\n",
       "    </tr>\n",
       "    <tr>\n",
       "      <th>2</th>\n",
       "      <td>16955285</td>\n",
       "      <td>1862</td>\n",
       "      <td>2016-02-10 15:00:00</td>\n",
       "      <td>2</td>\n",
       "      <td>2016-02-10</td>\n",
       "      <td>15</td>\n",
       "      <td>2</td>\n",
       "      <td>0</td>\n",
       "    </tr>\n",
       "    <tr>\n",
       "      <th>3</th>\n",
       "      <td>13799128</td>\n",
       "      <td>1862</td>\n",
       "      <td>2016-01-13 14:00:00</td>\n",
       "      <td>1</td>\n",
       "      <td>2016-01-13</td>\n",
       "      <td>14</td>\n",
       "      <td>2</td>\n",
       "      <td>0</td>\n",
       "    </tr>\n",
       "    <tr>\n",
       "      <th>4</th>\n",
       "      <td>13799128</td>\n",
       "      <td>1862</td>\n",
       "      <td>2016-07-05 12:00:00</td>\n",
       "      <td>7</td>\n",
       "      <td>2016-07-05</td>\n",
       "      <td>12</td>\n",
       "      <td>1</td>\n",
       "      <td>0</td>\n",
       "    </tr>\n",
       "  </tbody>\n",
       "</table>\n",
       "</div>"
      ],
      "text/plain": [
       "    user_id  shop_id           timestamp  month        date  hour  \\\n",
       "0  22127870     1862 2015-12-25 17:00:00     12  2015-12-25    17   \n",
       "1   3434231     1862 2016-10-05 11:00:00     10  2016-10-05    11   \n",
       "2  16955285     1862 2016-02-10 15:00:00      2  2016-02-10    15   \n",
       "3  13799128     1862 2016-01-13 14:00:00      1  2016-01-13    14   \n",
       "4  13799128     1862 2016-07-05 12:00:00      7  2016-07-05    12   \n",
       "\n",
       "   day_of_week  weekend  \n",
       "0            4        0  \n",
       "1            2        0  \n",
       "2            2        0  \n",
       "3            2        0  \n",
       "4            1        0  "
      ]
     },
     "execution_count": 23,
     "metadata": {},
     "output_type": "execute_result"
    }
   ],
   "source": [
    "df_pay = get_date_dim(df_pay)\n",
    "df_pay.head()"
   ]
  },
  {
   "cell_type": "code",
   "execution_count": 24,
   "metadata": {},
   "outputs": [
    {
     "data": {
      "text/plain": [
       "<matplotlib.axes._subplots.AxesSubplot at 0x258205f25c8>"
      ]
     },
     "execution_count": 24,
     "metadata": {},
     "output_type": "execute_result"
    },
    {
     "data": {
      "image/png": "[encoded data removed]",
      "text/plain": [
       "<Figure size 432x288 with 1 Axes>"
      ]
     },
     "metadata": {
      "needs_background": "light"
     },
     "output_type": "display_data"
    }
   ],
   "source": [
    "tmp_pay = df_pay.groupby(['day_of_week', 'hour']).size().reset_index()\n",
    "tmp_pay['day_of_week'] = tmp_pay['day_of_week'].astype(str)\n",
    "tmp_pay['hour'] = tmp_pay['hour'].astype(str)\n",
    "tmp_pay['week_hour'] = tmp_pay['day_of_week'].str.cat(tmp_pay['hour'], sep='-')\n",
    "tmp_pay.plot(y=0)"
   ]
  },
  {
   "cell_type": "code",
   "execution_count": 25,
   "metadata": {},
   "outputs": [
    {
     "data": {
      "text/html": [
       "<div>\n",
       "<style scoped>\n",
       "    .dataframe tbody tr th:only-of-type {\n",
       "        vertical-align: middle;\n",
       "    }\n",
       "\n",
       "    .dataframe tbody tr th {\n",
       "        vertical-align: top;\n",
       "    }\n",
       "\n",
       "    .dataframe thead th {\n",
       "        text-align: right;\n",
       "    }\n",
       "</style>\n",
       "<table border=\"1\" class=\"dataframe\">\n",
       "  <thead>\n",
       "    <tr style=\"text-align: right;\">\n",
       "      <th></th>\n",
       "      <th>user_id</th>\n",
       "      <th>shop_id</th>\n",
       "      <th>timestamp</th>\n",
       "      <th>month</th>\n",
       "      <th>date</th>\n",
       "      <th>hour</th>\n",
       "      <th>day_of_week</th>\n",
       "      <th>weekend</th>\n",
       "    </tr>\n",
       "  </thead>\n",
       "  <tbody>\n",
       "    <tr>\n",
       "      <th>0</th>\n",
       "      <td>13201967</td>\n",
       "      <td>1197</td>\n",
       "      <td>2016-10-21 18:00:00</td>\n",
       "      <td>10</td>\n",
       "      <td>2016-10-21</td>\n",
       "      <td>18</td>\n",
       "      <td>4</td>\n",
       "      <td>0</td>\n",
       "    </tr>\n",
       "    <tr>\n",
       "      <th>1</th>\n",
       "      <td>19461365</td>\n",
       "      <td>1197</td>\n",
       "      <td>2016-06-28 23:00:00</td>\n",
       "      <td>6</td>\n",
       "      <td>2016-06-28</td>\n",
       "      <td>23</td>\n",
       "      <td>1</td>\n",
       "      <td>0</td>\n",
       "    </tr>\n",
       "    <tr>\n",
       "      <th>2</th>\n",
       "      <td>15022321</td>\n",
       "      <td>1197</td>\n",
       "      <td>2016-07-16 19:00:00</td>\n",
       "      <td>7</td>\n",
       "      <td>2016-07-16</td>\n",
       "      <td>19</td>\n",
       "      <td>5</td>\n",
       "      <td>1</td>\n",
       "    </tr>\n",
       "    <tr>\n",
       "      <th>3</th>\n",
       "      <td>5440872</td>\n",
       "      <td>1197</td>\n",
       "      <td>2016-07-15 07:00:00</td>\n",
       "      <td>7</td>\n",
       "      <td>2016-07-15</td>\n",
       "      <td>7</td>\n",
       "      <td>4</td>\n",
       "      <td>0</td>\n",
       "    </tr>\n",
       "    <tr>\n",
       "      <th>4</th>\n",
       "      <td>12594529</td>\n",
       "      <td>1197</td>\n",
       "      <td>2016-08-07 16:00:00</td>\n",
       "      <td>8</td>\n",
       "      <td>2016-08-07</td>\n",
       "      <td>16</td>\n",
       "      <td>6</td>\n",
       "      <td>1</td>\n",
       "    </tr>\n",
       "  </tbody>\n",
       "</table>\n",
       "</div>"
      ],
      "text/plain": [
       "    user_id  shop_id           timestamp  month        date  hour  \\\n",
       "0  13201967     1197 2016-10-21 18:00:00     10  2016-10-21    18   \n",
       "1  19461365     1197 2016-06-28 23:00:00      6  2016-06-28    23   \n",
       "2  15022321     1197 2016-07-16 19:00:00      7  2016-07-16    19   \n",
       "3   5440872     1197 2016-07-15 07:00:00      7  2016-07-15     7   \n",
       "4  12594529     1197 2016-08-07 16:00:00      8  2016-08-07    16   \n",
       "\n",
       "   day_of_week  weekend  \n",
       "0            4        0  \n",
       "1            1        0  \n",
       "2            5        1  \n",
       "3            4        0  \n",
       "4            6        1  "
      ]
     },
     "execution_count": 25,
     "metadata": {},
     "output_type": "execute_result"
    }
   ],
   "source": [
    "df_browser.head()"
   ]
  },
  {
   "cell_type": "code",
   "execution_count": 28,
   "metadata": {},
   "outputs": [
    {
     "data": {
      "text/html": [
       "<div>\n",
       "<style scoped>\n",
       "    .dataframe tbody tr th:only-of-type {\n",
       "        vertical-align: middle;\n",
       "    }\n",
       "\n",
       "    .dataframe tbody tr th {\n",
       "        vertical-align: top;\n",
       "    }\n",
       "\n",
       "    .dataframe thead th {\n",
       "        text-align: right;\n",
       "    }\n",
       "</style>\n",
       "<table border=\"1\" class=\"dataframe\">\n",
       "  <thead>\n",
       "    <tr style=\"text-align: right;\">\n",
       "      <th></th>\n",
       "      <th>shop_id</th>\n",
       "      <th>date</th>\n",
       "      <th>browser_count</th>\n",
       "    </tr>\n",
       "  </thead>\n",
       "  <tbody>\n",
       "    <tr>\n",
       "      <th>0</th>\n",
       "      <td>1</td>\n",
       "      <td>2016-06-22</td>\n",
       "      <td>10</td>\n",
       "    </tr>\n",
       "    <tr>\n",
       "      <th>1</th>\n",
       "      <td>1</td>\n",
       "      <td>2016-06-23</td>\n",
       "      <td>18</td>\n",
       "    </tr>\n",
       "    <tr>\n",
       "      <th>2</th>\n",
       "      <td>1</td>\n",
       "      <td>2016-06-24</td>\n",
       "      <td>5</td>\n",
       "    </tr>\n",
       "    <tr>\n",
       "      <th>3</th>\n",
       "      <td>1</td>\n",
       "      <td>2016-06-25</td>\n",
       "      <td>22</td>\n",
       "    </tr>\n",
       "    <tr>\n",
       "      <th>4</th>\n",
       "      <td>1</td>\n",
       "      <td>2016-06-26</td>\n",
       "      <td>15</td>\n",
       "    </tr>\n",
       "  </tbody>\n",
       "</table>\n",
       "</div>"
      ],
      "text/plain": [
       "   shop_id        date  browser_count\n",
       "0        1  2016-06-22             10\n",
       "1        1  2016-06-23             18\n",
       "2        1  2016-06-24              5\n",
       "3        1  2016-06-25             22\n",
       "4        1  2016-06-26             15"
      ]
     },
     "execution_count": 28,
     "metadata": {},
     "output_type": "execute_result"
    }
   ],
   "source": [
    "browser_stat_day = df_browser.groupby(['shop_id','date']).size().reset_index()\n",
    "browser_stat_day.columns = ['shop_id','date','browser_count']\n",
    "browser_stat_day.head()"
   ]
  },
  {
   "cell_type": "code",
   "execution_count": 29,
   "metadata": {},
   "outputs": [],
   "source": [
    "browser_stat_day.to_csv('../data/browser_stat_day.csv',index=False)"
   ]
  },
  {
   "cell_type": "code",
   "execution_count": 31,
   "metadata": {},
   "outputs": [
    {
     "data": {
      "text/html": [
       "<div>\n",
       "<style scoped>\n",
       "    .dataframe tbody tr th:only-of-type {\n",
       "        vertical-align: middle;\n",
       "    }\n",
       "\n",
       "    .dataframe tbody tr th {\n",
       "        vertical-align: top;\n",
       "    }\n",
       "\n",
       "    .dataframe thead th {\n",
       "        text-align: right;\n",
       "    }\n",
       "</style>\n",
       "<table border=\"1\" class=\"dataframe\">\n",
       "  <thead>\n",
       "    <tr style=\"text-align: right;\">\n",
       "      <th></th>\n",
       "      <th>shop_id</th>\n",
       "      <th>date</th>\n",
       "      <th>pay_count</th>\n",
       "    </tr>\n",
       "  </thead>\n",
       "  <tbody>\n",
       "    <tr>\n",
       "      <th>0</th>\n",
       "      <td>1</td>\n",
       "      <td>2015-10-10</td>\n",
       "      <td>188</td>\n",
       "    </tr>\n",
       "    <tr>\n",
       "      <th>1</th>\n",
       "      <td>1</td>\n",
       "      <td>2015-10-11</td>\n",
       "      <td>272</td>\n",
       "    </tr>\n",
       "    <tr>\n",
       "      <th>2</th>\n",
       "      <td>1</td>\n",
       "      <td>2015-10-12</td>\n",
       "      <td>257</td>\n",
       "    </tr>\n",
       "    <tr>\n",
       "      <th>3</th>\n",
       "      <td>1</td>\n",
       "      <td>2015-10-13</td>\n",
       "      <td>239</td>\n",
       "    </tr>\n",
       "    <tr>\n",
       "      <th>4</th>\n",
       "      <td>1</td>\n",
       "      <td>2015-10-14</td>\n",
       "      <td>277</td>\n",
       "    </tr>\n",
       "  </tbody>\n",
       "</table>\n",
       "</div>"
      ],
      "text/plain": [
       "   shop_id        date  pay_count\n",
       "0        1  2015-10-10        188\n",
       "1        1  2015-10-11        272\n",
       "2        1  2015-10-12        257\n",
       "3        1  2015-10-13        239\n",
       "4        1  2015-10-14        277"
      ]
     },
     "execution_count": 31,
     "metadata": {},
     "output_type": "execute_result"
    }
   ],
   "source": [
    "pay_stat_day = df_pay.groupby(['shop_id','date']).size().reset_index()\n",
    "pay_stat_day.columns = ['shop_id','date','pay_count']\n",
    "pay_stat_day.head()"
   ]
  },
  {
   "cell_type": "code",
   "execution_count": 32,
   "metadata": {},
   "outputs": [],
   "source": [
    "pay_stat_day.to_csv('../data/pay_stat_day.csv',index=False)"
   ]
  },
  {
   "cell_type": "code",
   "execution_count": 33,
   "metadata": {},
   "outputs": [
    {
     "name": "stdout",
     "output_type": "stream",
     "text": [
      "/c/Users/admin/AppData/Local/Programs/Python/Python37/python\n"
     ]
    }
   ],
   "source": [
    "!which python"
   ]
  },
  {
   "cell_type": "code",
   "execution_count": null,
   "metadata": {},
   "outputs": [],
   "source": []
  }
 ],
 "metadata": {
  "kernelspec": {
   "display_name": "Python 3",
   "language": "python",
   "name": "python3"
  },
  "language_info": {
   "codemirror_mode": {
    "name": "ipython",
    "version": 3
   },
   "file_extension": ".py",
   "mimetype": "text/x-python",
   "name": "python",
   "nbconvert_exporter": "python",
   "pygments_lexer": "ipython3",
   "version": "3.7.6"
  },
  "toc": {
   "base_numbering": 1.0,
   "nav_menu": {},
   "number_sections": true,
   "sideBar": true,
   "skip_h1_title": false,
   "title_cell": "Table of Contents",
   "title_sidebar": "Contents",
   "toc_cell": false,
   "toc_position": {},
   "toc_section_display": true,
   "toc_window_display": true
  }
 },
 "nbformat": 4,
 "nbformat_minor": 4
}
